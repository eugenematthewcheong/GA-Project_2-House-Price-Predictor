{
 "cells": [
  {
   "cell_type": "markdown",
   "metadata": {},
   "source": [
    "<img src=\"http://imgur.com/1ZcRyrc.png\" style=\"float: left; margin: 20px; height: 55px\">\n",
    "\n",
    "# Project 2: Model selection\n",
    "\n",
    "> Authors: Lim Zheng Gang, Eugene Matthew Cheong, Pius Yee\n",
    "\n",
    "---"
   ]
  },
  {
   "cell_type": "markdown",
   "metadata": {},
   "source": [
    "### Notebook 3. Model selection\n",
    "##### In this Notebook 3, we'll focus on model building. We'll compare three regression techniques: Linear Regression, Ridge Regression, and Lasso Regression, to identify the model that best fits our dataset."
   ]
  },
  {
   "cell_type": "code",
   "execution_count": 14,
   "metadata": {},
   "outputs": [],
   "source": [
    "# import libraries\n",
    "\n",
    "from datetime import datetime\n",
    "import math\n",
    "\n",
    "import numpy as np\n",
    "import seaborn as sns\n",
    "import matplotlib.pyplot as plt\n",
    "import pandas as pd\n",
    "\n",
    "\n",
    "import scipy\n",
    "from scipy.stats import pearsonr\n",
    "from scipy.spatial.distance import cityblock\n",
    "\n",
    "from statsmodels.stats.outliers_influence import variance_inflation_factor\n",
    "import statsmodels.api as sm\n",
    "\n",
    "from sklearn.preprocessing import StandardScaler\n",
    "from sklearn.linear_model import LinearRegression\n",
    "from sklearn.model_selection import train_test_split\n",
    "from sklearn.model_selection import cross_val_score\n",
    "from sklearn.linear_model import Ridge, Lasso\n",
    "from sklearn import metrics\n",
    "from sklearn.metrics import r2_score\n",
    "from sklearn.linear_model import LassoCV\n",
    "\n",
    "import category_encoders as ce\n",
    "\n",
    "import pickle\n",
    "\n",
    "pd.set_option('display.max_columns', None)\n",
    "pd.set_option('display.precision', 10)"
   ]
  },
  {
   "cell_type": "markdown",
   "metadata": {},
   "source": [
    "##### Read CSV file"
   ]
  },
  {
   "cell_type": "code",
   "execution_count": 15,
   "metadata": {},
   "outputs": [
    {
     "data": {
      "text/html": [
       "<div>\n",
       "<style scoped>\n",
       "    .dataframe tbody tr th:only-of-type {\n",
       "        vertical-align: middle;\n",
       "    }\n",
       "\n",
       "    .dataframe tbody tr th {\n",
       "        vertical-align: top;\n",
       "    }\n",
       "\n",
       "    .dataframe thead th {\n",
       "        text-align: right;\n",
       "    }\n",
       "</style>\n",
       "<table border=\"1\" class=\"dataframe\">\n",
       "  <thead>\n",
       "    <tr style=\"text-align: right;\">\n",
       "      <th></th>\n",
       "      <th>id</th>\n",
       "      <th>resale_price</th>\n",
       "      <th>mid</th>\n",
       "      <th>floor_area_sqft</th>\n",
       "      <th>max_floor_lvl</th>\n",
       "      <th>mrt_nearest_distance</th>\n",
       "      <th>mature</th>\n",
       "      <th>planning_area_category_Group1</th>\n",
       "      <th>planning_area_category_GroupA</th>\n",
       "      <th>planning_area_category_GroupCM</th>\n",
       "      <th>planning_area_category_GroupCQS</th>\n",
       "      <th>planning_area_category_GroupJB</th>\n",
       "      <th>planning_area_category_GroupPWC</th>\n",
       "      <th>planning_area_category_GroupYH</th>\n",
       "      <th>tenure</th>\n",
       "      <th>tenure_buckets_0-10</th>\n",
       "      <th>year_category_Group0</th>\n",
       "      <th>year_category_Group1</th>\n",
       "      <th>year_category_Group2</th>\n",
       "      <th>is_premium</th>\n",
       "      <th>is_terrace</th>\n",
       "      <th>is_superlargeterrace</th>\n",
       "      <th>flat_type_1 ROOM</th>\n",
       "      <th>flat_type_2 ROOM</th>\n",
       "      <th>is_pre_war</th>\n",
       "      <th>from_centre_distance</th>\n",
       "      <th>mh</th>\n",
       "    </tr>\n",
       "  </thead>\n",
       "  <tbody>\n",
       "    <tr>\n",
       "      <th>0</th>\n",
       "      <td>88471</td>\n",
       "      <td>680000.0</td>\n",
       "      <td>11</td>\n",
       "      <td>968.760</td>\n",
       "      <td>25</td>\n",
       "      <td>330.0830689708</td>\n",
       "      <td>1</td>\n",
       "      <td>0</td>\n",
       "      <td>0</td>\n",
       "      <td>0</td>\n",
       "      <td>0</td>\n",
       "      <td>0</td>\n",
       "      <td>0</td>\n",
       "      <td>0</td>\n",
       "      <td>10</td>\n",
       "      <td>1</td>\n",
       "      <td>0</td>\n",
       "      <td>1</td>\n",
       "      <td>0</td>\n",
       "      <td>0</td>\n",
       "      <td>0</td>\n",
       "      <td>0</td>\n",
       "      <td>0</td>\n",
       "      <td>0</td>\n",
       "      <td>0</td>\n",
       "      <td>5.3777515099</td>\n",
       "      <td>1.0377431231</td>\n",
       "    </tr>\n",
       "    <tr>\n",
       "      <th>1</th>\n",
       "      <td>122598</td>\n",
       "      <td>665000.0</td>\n",
       "      <td>8</td>\n",
       "      <td>1399.320</td>\n",
       "      <td>9</td>\n",
       "      <td>903.6597028521</td>\n",
       "      <td>1</td>\n",
       "      <td>1</td>\n",
       "      <td>0</td>\n",
       "      <td>0</td>\n",
       "      <td>0</td>\n",
       "      <td>0</td>\n",
       "      <td>0</td>\n",
       "      <td>0</td>\n",
       "      <td>25</td>\n",
       "      <td>0</td>\n",
       "      <td>0</td>\n",
       "      <td>0</td>\n",
       "      <td>0</td>\n",
       "      <td>0</td>\n",
       "      <td>0</td>\n",
       "      <td>0</td>\n",
       "      <td>0</td>\n",
       "      <td>0</td>\n",
       "      <td>0</td>\n",
       "      <td>8.0532982362</td>\n",
       "      <td>0.8558839198</td>\n",
       "    </tr>\n",
       "    <tr>\n",
       "      <th>2</th>\n",
       "      <td>170897</td>\n",
       "      <td>838000.0</td>\n",
       "      <td>14</td>\n",
       "      <td>1550.016</td>\n",
       "      <td>16</td>\n",
       "      <td>1334.2511968565</td>\n",
       "      <td>0</td>\n",
       "      <td>0</td>\n",
       "      <td>0</td>\n",
       "      <td>0</td>\n",
       "      <td>0</td>\n",
       "      <td>0</td>\n",
       "      <td>0</td>\n",
       "      <td>0</td>\n",
       "      <td>16</td>\n",
       "      <td>0</td>\n",
       "      <td>0</td>\n",
       "      <td>0</td>\n",
       "      <td>0</td>\n",
       "      <td>0</td>\n",
       "      <td>0</td>\n",
       "      <td>0</td>\n",
       "      <td>0</td>\n",
       "      <td>0</td>\n",
       "      <td>0</td>\n",
       "      <td>12.2253374580</td>\n",
       "      <td>1.7864525830</td>\n",
       "    </tr>\n",
       "    <tr>\n",
       "      <th>3</th>\n",
       "      <td>86070</td>\n",
       "      <td>550000.0</td>\n",
       "      <td>3</td>\n",
       "      <td>1108.692</td>\n",
       "      <td>11</td>\n",
       "      <td>907.4534838706</td>\n",
       "      <td>1</td>\n",
       "      <td>1</td>\n",
       "      <td>0</td>\n",
       "      <td>0</td>\n",
       "      <td>0</td>\n",
       "      <td>0</td>\n",
       "      <td>0</td>\n",
       "      <td>0</td>\n",
       "      <td>20</td>\n",
       "      <td>0</td>\n",
       "      <td>0</td>\n",
       "      <td>0</td>\n",
       "      <td>0</td>\n",
       "      <td>0</td>\n",
       "      <td>0</td>\n",
       "      <td>0</td>\n",
       "      <td>0</td>\n",
       "      <td>0</td>\n",
       "      <td>0</td>\n",
       "      <td>9.3372050947</td>\n",
       "      <td>0.9595222727</td>\n",
       "    </tr>\n",
       "    <tr>\n",
       "      <th>4</th>\n",
       "      <td>153632</td>\n",
       "      <td>298000.0</td>\n",
       "      <td>2</td>\n",
       "      <td>893.412</td>\n",
       "      <td>4</td>\n",
       "      <td>412.3430317260</td>\n",
       "      <td>0</td>\n",
       "      <td>0</td>\n",
       "      <td>0</td>\n",
       "      <td>0</td>\n",
       "      <td>0</td>\n",
       "      <td>0</td>\n",
       "      <td>0</td>\n",
       "      <td>1</td>\n",
       "      <td>30</td>\n",
       "      <td>0</td>\n",
       "      <td>0</td>\n",
       "      <td>0</td>\n",
       "      <td>1</td>\n",
       "      <td>0</td>\n",
       "      <td>0</td>\n",
       "      <td>0</td>\n",
       "      <td>0</td>\n",
       "      <td>0</td>\n",
       "      <td>0</td>\n",
       "      <td>15.6602881769</td>\n",
       "      <td>1.5022491892</td>\n",
       "    </tr>\n",
       "  </tbody>\n",
       "</table>\n",
       "</div>"
      ],
      "text/plain": [
       "       id  resale_price  mid  floor_area_sqft  max_floor_lvl  \\\n",
       "0   88471      680000.0   11          968.760             25   \n",
       "1  122598      665000.0    8         1399.320              9   \n",
       "2  170897      838000.0   14         1550.016             16   \n",
       "3   86070      550000.0    3         1108.692             11   \n",
       "4  153632      298000.0    2          893.412              4   \n",
       "\n",
       "   mrt_nearest_distance  mature  planning_area_category_Group1  \\\n",
       "0        330.0830689708       1                              0   \n",
       "1        903.6597028521       1                              1   \n",
       "2       1334.2511968565       0                              0   \n",
       "3        907.4534838706       1                              1   \n",
       "4        412.3430317260       0                              0   \n",
       "\n",
       "   planning_area_category_GroupA  planning_area_category_GroupCM  \\\n",
       "0                              0                               0   \n",
       "1                              0                               0   \n",
       "2                              0                               0   \n",
       "3                              0                               0   \n",
       "4                              0                               0   \n",
       "\n",
       "   planning_area_category_GroupCQS  planning_area_category_GroupJB  \\\n",
       "0                                0                               0   \n",
       "1                                0                               0   \n",
       "2                                0                               0   \n",
       "3                                0                               0   \n",
       "4                                0                               0   \n",
       "\n",
       "   planning_area_category_GroupPWC  planning_area_category_GroupYH  tenure  \\\n",
       "0                                0                               0      10   \n",
       "1                                0                               0      25   \n",
       "2                                0                               0      16   \n",
       "3                                0                               0      20   \n",
       "4                                0                               1      30   \n",
       "\n",
       "   tenure_buckets_0-10  year_category_Group0  year_category_Group1  \\\n",
       "0                    1                     0                     1   \n",
       "1                    0                     0                     0   \n",
       "2                    0                     0                     0   \n",
       "3                    0                     0                     0   \n",
       "4                    0                     0                     0   \n",
       "\n",
       "   year_category_Group2  is_premium  is_terrace  is_superlargeterrace  \\\n",
       "0                     0           0           0                     0   \n",
       "1                     0           0           0                     0   \n",
       "2                     0           0           0                     0   \n",
       "3                     0           0           0                     0   \n",
       "4                     1           0           0                     0   \n",
       "\n",
       "   flat_type_1 ROOM  flat_type_2 ROOM  is_pre_war  from_centre_distance  \\\n",
       "0                 0                 0           0          5.3777515099   \n",
       "1                 0                 0           0          8.0532982362   \n",
       "2                 0                 0           0         12.2253374580   \n",
       "3                 0                 0           0          9.3372050947   \n",
       "4                 0                 0           0         15.6602881769   \n",
       "\n",
       "             mh  \n",
       "0  1.0377431231  \n",
       "1  0.8558839198  \n",
       "2  1.7864525830  \n",
       "3  0.9595222727  \n",
       "4  1.5022491892  "
      ]
     },
     "execution_count": 15,
     "metadata": {},
     "output_type": "execute_result"
    }
   ],
   "source": [
    "# final dataset after cleaning and feature engineering\n",
    "\n",
    "hdb_df = pd.read_csv(\"../datasets/hdb_final.csv\",index_col=0)\n",
    "hdb_df.head()"
   ]
  },
  {
   "cell_type": "markdown",
   "metadata": {},
   "source": [
    "##### Create a function that takes a dataset and model as input and returns the predicted scores for the model."
   ]
  },
  {
   "cell_type": "code",
   "execution_count": 16,
   "metadata": {},
   "outputs": [],
   "source": [
    "#define a function for model testing\n",
    "\n",
    "def val_score_test(dataset,model, k=5):\n",
    "    scaler = StandardScaler()\n",
    "\n",
    "    #define X and y\n",
    "    X = dataset.drop(columns=['id','resale_price'])\n",
    "    y = dataset['resale_price'].values\n",
    "    X_scaled = scaler.fit_transform(X)\n",
    "\n",
    "    X_scaled_df = pd.DataFrame(X_scaled, columns=X.columns)\n",
    "\n",
    "    #split train and test\n",
    "    X_train, X_test, y_train, y_test = train_test_split(X_scaled_df, np.log1p(y), random_state=42)\n",
    "    model.fit(X_train, y_train)\n",
    "    y_pred = model.predict(X_test)\n",
    "\n",
    "    #return the result\n",
    "    return {\"R2\": round(metrics.r2_score(y_test, y_pred),4) ,\n",
    "            \"R2 for train set\": round(model.score(X_train,y_train),4), \n",
    "            \"R2 for test set\": round(model.score(X_test,y_test),4), \n",
    "            \"cross val\": round(cross_val_score(model, X_train, y_train, cv=10).mean(),4), \n",
    "            \"MSE\": round(metrics.mean_squared_error(np.exp(y_test)-1, np.exp(y_pred)-1),4),\n",
    "            \"RMSE\": round(metrics.mean_squared_error(np.exp(y_test)-1, np.exp(y_pred)-1, squared=False),4),\n",
    "            \"MAE\": round(metrics.mean_absolute_error(np.exp(y_test)-1, np.exp(y_pred)-1),4)\n",
    "            }\n"
   ]
  },
  {
   "cell_type": "markdown",
   "metadata": {},
   "source": [
    "##### Scores for Linear Regression\n",
    "##### Linear Regression finds the equation for that line, allowing you to predict a value based on another. Great for understanding relationships, but can be prone to overfitting on complex data."
   ]
  },
  {
   "cell_type": "code",
   "execution_count": 17,
   "metadata": {},
   "outputs": [],
   "source": [
    "lr = LinearRegression()"
   ]
  },
  {
   "cell_type": "code",
   "execution_count": 18,
   "metadata": {},
   "outputs": [
    {
     "data": {
      "text/plain": [
       "{'R2': 0.9015,\n",
       " 'R2 for train set': 0.903,\n",
       " 'R2 for test set': 0.9015,\n",
       " 'cross val': 0.9029,\n",
       " 'MSE': 2103703193.9542,\n",
       " 'RMSE': 45866.1443,\n",
       " 'MAE': 33525.4368}"
      ]
     },
     "execution_count": 18,
     "metadata": {},
     "output_type": "execute_result"
    }
   ],
   "source": [
    "val_score_test(hdb_df,lr)"
   ]
  },
  {
   "cell_type": "markdown",
   "metadata": {},
   "source": [
    "##### Scores for Ridge Regression\n",
    "##### Like linear regression with a twist - it penalizes the sum of squared coefficients, shrinking them all but never to zero. This helps reduce the impact of irrelevant features and improves performance on datasets with correlated features."
   ]
  },
  {
   "cell_type": "code",
   "execution_count": 19,
   "metadata": {},
   "outputs": [],
   "source": [
    "rr = Ridge()"
   ]
  },
  {
   "cell_type": "code",
   "execution_count": 20,
   "metadata": {},
   "outputs": [
    {
     "data": {
      "text/plain": [
       "{'R2': 0.9015,\n",
       " 'R2 for train set': 0.903,\n",
       " 'R2 for test set': 0.9015,\n",
       " 'cross val': 0.9029,\n",
       " 'MSE': 2103705914.3107,\n",
       " 'RMSE': 45866.174,\n",
       " 'MAE': 33525.4158}"
      ]
     },
     "execution_count": 20,
     "metadata": {},
     "output_type": "execute_result"
    }
   ],
   "source": [
    "val_score_test(hdb_df,rr)"
   ]
  },
  {
   "cell_type": "markdown",
   "metadata": {},
   "source": [
    "##### Score for Lasso Regression\n",
    "##### Similar to linear regression, but it penalizes large coefficients, shrinking some to zero. This can automatically select important features and reduces model complexity, making it useful for feature selection and handling high-dimensional data."
   ]
  },
  {
   "cell_type": "code",
   "execution_count": 21,
   "metadata": {},
   "outputs": [],
   "source": [
    "# set alpha lasso\n",
    "alpha_space = np.logspace(-4, 4, 100)\n",
    "lasso= LassoCV(alphas = alpha_space, random_state = 42)"
   ]
  },
  {
   "cell_type": "code",
   "execution_count": 22,
   "metadata": {},
   "outputs": [
    {
     "data": {
      "text/plain": [
       "{'R2': 0.9015,\n",
       " 'R2 for train set': 0.903,\n",
       " 'R2 for test set': 0.9015,\n",
       " 'cross val': 0.9029,\n",
       " 'MSE': 2101720795.2332,\n",
       " 'RMSE': 45844.5285,\n",
       " 'MAE': 33518.2454}"
      ]
     },
     "execution_count": 22,
     "metadata": {},
     "output_type": "execute_result"
    }
   ],
   "source": [
    "val_score_test(hdb_df,lasso)"
   ]
  },
  {
   "cell_type": "markdown",
   "metadata": {},
   "source": [
    "### Summary table for model scores"
   ]
  },
  {
   "cell_type": "code",
   "execution_count": 23,
   "metadata": {},
   "outputs": [
    {
     "data": {
      "text/html": [
       "<div>\n",
       "<style scoped>\n",
       "    .dataframe tbody tr th:only-of-type {\n",
       "        vertical-align: middle;\n",
       "    }\n",
       "\n",
       "    .dataframe tbody tr th {\n",
       "        vertical-align: top;\n",
       "    }\n",
       "\n",
       "    .dataframe thead th {\n",
       "        text-align: right;\n",
       "    }\n",
       "</style>\n",
       "<table border=\"1\" class=\"dataframe\">\n",
       "  <thead>\n",
       "    <tr style=\"text-align: right;\">\n",
       "      <th></th>\n",
       "      <th>Linear Regression</th>\n",
       "      <th>Ridge Regression</th>\n",
       "      <th>Lasso Regression</th>\n",
       "    </tr>\n",
       "    <tr>\n",
       "      <th>Score</th>\n",
       "      <th></th>\n",
       "      <th></th>\n",
       "      <th></th>\n",
       "    </tr>\n",
       "  </thead>\n",
       "  <tbody>\n",
       "    <tr>\n",
       "      <th>R2</th>\n",
       "      <td>0.9015</td>\n",
       "      <td>0.9015</td>\n",
       "      <td>0.9015</td>\n",
       "    </tr>\n",
       "    <tr>\n",
       "      <th>R2 for train set</th>\n",
       "      <td>0.903</td>\n",
       "      <td>0.903</td>\n",
       "      <td>0.903</td>\n",
       "    </tr>\n",
       "    <tr>\n",
       "      <th>R2 for test set</th>\n",
       "      <td>0.9015</td>\n",
       "      <td>0.9015</td>\n",
       "      <td>0.9015</td>\n",
       "    </tr>\n",
       "    <tr>\n",
       "      <th>cross val</th>\n",
       "      <td>0.9029</td>\n",
       "      <td>0.9029</td>\n",
       "      <td>0.9029</td>\n",
       "    </tr>\n",
       "    <tr>\n",
       "      <th>MSE</th>\n",
       "      <td>2103703193.9542</td>\n",
       "      <td>2103705914.3107</td>\n",
       "      <td>2101720795.2332</td>\n",
       "    </tr>\n",
       "    <tr>\n",
       "      <th>RMSE</th>\n",
       "      <td>45866.1443</td>\n",
       "      <td>45866.174</td>\n",
       "      <td>45844.5285</td>\n",
       "    </tr>\n",
       "    <tr>\n",
       "      <th>MAE</th>\n",
       "      <td>33525.4368</td>\n",
       "      <td>33525.4158</td>\n",
       "      <td>33518.2454</td>\n",
       "    </tr>\n",
       "  </tbody>\n",
       "</table>\n",
       "</div>"
      ],
      "text/plain": [
       "                 Linear Regression  Ridge Regression  Lasso Regression \n",
       "Score                                                                  \n",
       "R2                           0.9015            0.9015            0.9015\n",
       "R2 for train set              0.903             0.903             0.903\n",
       "R2 for test set              0.9015            0.9015            0.9015\n",
       "cross val                    0.9029            0.9029            0.9029\n",
       "MSE                 2103703193.9542   2103705914.3107   2101720795.2332\n",
       "RMSE                     45866.1443         45866.174        45844.5285\n",
       "MAE                      33525.4368        33525.4158        33518.2454"
      ]
     },
     "execution_count": 23,
     "metadata": {},
     "output_type": "execute_result"
    }
   ],
   "source": [
    "#create a summary table for scores between models\n",
    "score = [keys for keys, values in val_score_test(hdb_df,lr).items()]\n",
    "lr_score = [str(values) for keys, values in val_score_test(hdb_df,lr).items()]\n",
    "rr_score = [str(values) for keys, values in val_score_test(hdb_df,rr).items()]\n",
    "lasso_score = [str(values) for keys, values in val_score_test(hdb_df,lasso).items()]\n",
    "\n",
    "pd.DataFrame({\"Score\": score, \"Linear Regression \": lr_score, \"Ridge Regression \": rr_score, \"Lasso Regression \": lasso_score}).set_index(\"Score\")"
   ]
  },
  {
   "cell_type": "markdown",
   "metadata": {},
   "source": [
    "### Conclusion\n",
    "##### Based on the scores above, Lasso Regression is selected as our model since it has the slightly better scores especially in RMSE."
   ]
  },
  {
   "cell_type": "markdown",
   "metadata": {},
   "source": [
    "##### Exporting Pickle files for Kaggle submission use"
   ]
  },
  {
   "cell_type": "code",
   "execution_count": 24,
   "metadata": {},
   "outputs": [],
   "source": [
    "scaler = StandardScaler()\n",
    "X = hdb_df.drop(columns=['id','resale_price'])\n",
    "X_fit = scaler.fit(X)\n",
    "\n",
    "# To write out the pickle file\n",
    "with open('../datasets/scaler.pkl', 'wb') as scaler_handle:\n",
    "    pickle.dump(X_fit, scaler_handle)"
   ]
  },
  {
   "cell_type": "code",
   "execution_count": 25,
   "metadata": {},
   "outputs": [],
   "source": [
    "# To write out the pickle file\n",
    "with open('../datasets/lasso.pkl', 'wb') as handle:\n",
    "    pickle.dump(lasso, handle)"
   ]
  }
 ],
 "metadata": {
  "kernelspec": {
   "display_name": "base",
   "language": "python",
   "name": "python3"
  },
  "language_info": {
   "codemirror_mode": {
    "name": "ipython",
    "version": 3
   },
   "file_extension": ".py",
   "mimetype": "text/x-python",
   "name": "python",
   "nbconvert_exporter": "python",
   "pygments_lexer": "ipython3",
   "version": "3.11.8"
  }
 },
 "nbformat": 4,
 "nbformat_minor": 2
}
